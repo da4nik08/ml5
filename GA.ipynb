{
 "cells": [
  {
   "cell_type": "code",
   "execution_count": 84,
   "id": "8af04bae-2100-4010-bfc6-c75cd00af7ac",
   "metadata": {},
   "outputs": [],
   "source": [
    "import numpy as np\n",
    "import pandas as pd\n",
    "import torch\n",
    "from sklearn.preprocessing import Normalizer\n",
    "from sklearn.model_selection import train_test_split\n",
    "from torch.utils.tensorboard import SummaryWriter\n",
    "from torchsummary import summary\n",
    "from datetime import datetime\n",
    "import time\n",
    "import copy"
   ]
  },
  {
   "cell_type": "markdown",
   "id": "17a7c9cd-451e-4f59-9cbf-0d54f3446ad6",
   "metadata": {},
   "source": [
    "# data preprocessing"
   ]
  },
  {
   "cell_type": "code",
   "execution_count": 2,
   "id": "fb6ce47f-c73b-4155-b8d9-7fb0aebb8f26",
   "metadata": {},
   "outputs": [],
   "source": [
    "dataset = pd.read_csv(\"iris/iris.csv\", header=None)"
   ]
  },
  {
   "cell_type": "code",
   "execution_count": 4,
   "id": "9951053c-76ce-4d96-9938-6e280e4c3a66",
   "metadata": {},
   "outputs": [],
   "source": [
    "def encode_textdata(ds, column):\n",
    "    ids = {name: id for name, id in zip(list(ds[column].unique()), range(ds.shape[0]))}\n",
    "    return ids, ds[column].transform(lambda x: ids[x])"
   ]
  },
  {
   "cell_type": "code",
   "execution_count": 5,
   "id": "2d1d9c61-846d-441a-811d-1f52bb7413ca",
   "metadata": {},
   "outputs": [],
   "source": [
    "ids, dataslice = encode_textdata(dataset, 4)"
   ]
  },
  {
   "cell_type": "code",
   "execution_count": 6,
   "id": "08ee2660-9037-4253-8b54-a82917ea76a0",
   "metadata": {},
   "outputs": [],
   "source": [
    "x = dataset[[0, 1, 2, 3]]"
   ]
  },
  {
   "cell_type": "code",
   "execution_count": 16,
   "id": "fd9c2a21-b310-4251-a08d-8a6085bf20ac",
   "metadata": {},
   "outputs": [],
   "source": [
    "scaler = Normalizer()\n",
    "scaler.fit(x)\n",
    "X = scaler.fit_transform(x)"
   ]
  },
  {
   "cell_type": "code",
   "execution_count": 74,
   "id": "fe779fd9-c134-4933-9e30-d05454c37490",
   "metadata": {},
   "outputs": [],
   "source": [
    "X_train, X_test, y_train, y_test = train_test_split(X, dataslice, test_size=0.3, random_state=42)"
   ]
  },
  {
   "cell_type": "code",
   "execution_count": 75,
   "id": "847936f8-e891-486f-95ba-2d2ea6570557",
   "metadata": {},
   "outputs": [],
   "source": [
    "y_train = y_train.to_numpy()\n",
    "y_train = y_train.reshape([y_train.shape[0], 1])\n",
    "y_test = y_test.to_numpy()\n",
    "y_test = y_test.reshape([y_test.shape[0], 1])"
   ]
  },
  {
   "cell_type": "markdown",
   "id": "b6d0b77a-b548-480f-9d8a-21ed3be7cf19",
   "metadata": {},
   "source": [
    "# Model"
   ]
  },
  {
   "cell_type": "code",
   "execution_count": 66,
   "id": "3942a01b-872e-4d58-8c31-ce6130262bdc",
   "metadata": {},
   "outputs": [],
   "source": [
    "class Layer():\n",
    "    def __init__(self, input_shape, out_shape):\n",
    "        self.W = np.random.randn(input_shape, out_shape)\n",
    "        self.b = np.random.randn(1, out_shape)\n",
    "\n",
    "    def forward(self, x):\n",
    "        return np.matmul(x**2, self.W) + self.b"
   ]
  },
  {
   "cell_type": "code",
   "execution_count": 67,
   "id": "a4f11aaa-d803-447f-bfd4-f8b786965541",
   "metadata": {},
   "outputs": [],
   "source": [
    "class GAModel():\n",
    "    def __init__(self, layers_shapes):\n",
    "        self.layers = list()\n",
    "        for i in range(1, len(layers_shapes)):\n",
    "            self.layers.append(Layer(layers_shapes[i-1], layers_shapes[i]))\n",
    "\n",
    "    def mutate(self, lr, scalar):\n",
    "        for i in self.layers:\n",
    "            i.W = i.W + lr * scalar * np.random.choice([-1, 1], size=i.W.shape)\n",
    "            i.b = i.b + lr * scalar * np.random.choice([-1, 1], size=i.b.shape)\n",
    "        return self\n",
    "\n",
    "    def softmax(self, x):\n",
    "        exp_vals = np.exp(x - np.max(x, axis=-1, keepdims=True))\n",
    "        return exp_vals / np.sum(exp_vals, axis=-1, keepdims=True)\n",
    "    \n",
    "    def forward(self, x):\n",
    "        for i in self.layers:\n",
    "            x = i.forward(x)\n",
    "        return self.softmax(x)"
   ]
  },
  {
   "cell_type": "markdown",
   "id": "47ed8a5a-8af0-4dac-8d63-27f8e0485933",
   "metadata": {},
   "source": [
    "# train"
   ]
  },
  {
   "cell_type": "code",
   "execution_count": 24,
   "id": "5fbfbb0b-7d43-439b-918c-5ee2d4995146",
   "metadata": {},
   "outputs": [],
   "source": [
    "def accuracy(y_pred, y):\n",
    "    y_pred = np.argmax(y_pred, axis=-1, keepdims=True)\n",
    "    accuracy = np.sum(y_pred == y)/y.shape[0]\n",
    "    return accuracy"
   ]
  },
  {
   "cell_type": "code",
   "execution_count": 26,
   "id": "54ad7b2c-02fa-4ebb-9023-a4d520c6e52f",
   "metadata": {},
   "outputs": [],
   "source": [
    "def train_step(model, x, y):\n",
    "    y_pred = model.forward(x)\n",
    "    return accuracy(y_pred, y)"
   ]
  },
  {
   "cell_type": "code",
   "execution_count": 86,
   "id": "f0f568c7-2bf0-4e9b-8042-b33080dda112",
   "metadata": {},
   "outputs": [],
   "source": [
    "def train(models, epochs, x, y, x_test, y_test, lr, scalar, n_children, model_name):\n",
    "    timestamp = datetime.now().strftime('%Y%m%d_%H%M%S')\n",
    "    writer = SummaryWriter('runs/' + model_name + '_{}'.format(timestamp))\n",
    "    for epoch in range(0, epochs):\n",
    "        list_acc = []\n",
    "        for model in models:\n",
    "            list_acc.append(train_step(model, x, y))\n",
    "        best_acc = max(list_acc)\n",
    "        best_model = models[list_acc.index(max(list_acc))]\n",
    "        test_acc = accuracy(best_model.forward(x_test), y_test)\n",
    "        models = [copy.deepcopy(best_model).mutate(lr, scalar)  for _ in range(n_children)]\n",
    "        writer.add_scalars('Training vs. Validation Acc',\n",
    "                    { 'Training' : best_acc, 'Validation' : test_acc },\n",
    "                    epoch + 1)\n",
    "        print(f\"epoch => {epoch}, acc = {best_acc}, test_acc = {test_acc}\")\n",
    "    return best_model"
   ]
  },
  {
   "cell_type": "code",
   "execution_count": 90,
   "id": "00023fa1-9538-4621-bcfc-bad0472e4854",
   "metadata": {},
   "outputs": [],
   "source": [
    "model = GAModel([4, 10, 10, 3])"
   ]
  },
  {
   "cell_type": "code",
   "execution_count": 91,
   "id": "a6fecf09-57ad-4e17-8a85-ba869e51c4ec",
   "metadata": {
    "scrolled": true
   },
   "outputs": [
    {
     "name": "stdout",
     "output_type": "stream",
     "text": [
      "epoch => 0, acc = 0.3523809523809524, test_acc = 0.28888888888888886\n",
      "epoch => 1, acc = 0.638095238095238, test_acc = 0.7111111111111111\n",
      "epoch => 2, acc = 0.6476190476190476, test_acc = 0.7111111111111111\n",
      "epoch => 3, acc = 0.6476190476190476, test_acc = 0.7111111111111111\n",
      "epoch => 4, acc = 0.6476190476190476, test_acc = 0.6888888888888889\n",
      "epoch => 5, acc = 0.6476190476190476, test_acc = 0.7111111111111111\n",
      "epoch => 6, acc = 0.6476190476190476, test_acc = 0.7111111111111111\n",
      "epoch => 7, acc = 0.6476190476190476, test_acc = 0.6888888888888889\n",
      "epoch => 8, acc = 0.6476190476190476, test_acc = 0.7111111111111111\n",
      "epoch => 9, acc = 0.6476190476190476, test_acc = 0.7111111111111111\n",
      "epoch => 10, acc = 0.6476190476190476, test_acc = 0.7111111111111111\n",
      "epoch => 11, acc = 0.6476190476190476, test_acc = 0.7111111111111111\n",
      "epoch => 12, acc = 0.6476190476190476, test_acc = 0.7111111111111111\n",
      "epoch => 13, acc = 0.6476190476190476, test_acc = 0.7111111111111111\n",
      "epoch => 14, acc = 0.6476190476190476, test_acc = 0.7111111111111111\n",
      "epoch => 15, acc = 0.8476190476190476, test_acc = 0.9111111111111111\n",
      "epoch => 16, acc = 0.9523809523809523, test_acc = 0.9555555555555556\n",
      "epoch => 17, acc = 0.9523809523809523, test_acc = 0.9555555555555556\n",
      "epoch => 18, acc = 0.9523809523809523, test_acc = 0.9555555555555556\n",
      "epoch => 19, acc = 0.9523809523809523, test_acc = 0.9555555555555556\n",
      "epoch => 20, acc = 0.9523809523809523, test_acc = 0.9555555555555556\n",
      "epoch => 21, acc = 0.9523809523809523, test_acc = 0.9333333333333333\n",
      "epoch => 22, acc = 0.9523809523809523, test_acc = 0.9333333333333333\n",
      "epoch => 23, acc = 0.9523809523809523, test_acc = 0.9333333333333333\n",
      "epoch => 24, acc = 0.9523809523809523, test_acc = 0.9333333333333333\n",
      "epoch => 25, acc = 0.9523809523809523, test_acc = 0.9333333333333333\n",
      "epoch => 26, acc = 0.9523809523809523, test_acc = 0.9333333333333333\n",
      "epoch => 27, acc = 0.9523809523809523, test_acc = 0.9333333333333333\n",
      "epoch => 28, acc = 0.9523809523809523, test_acc = 0.9555555555555556\n",
      "epoch => 29, acc = 0.9523809523809523, test_acc = 0.9333333333333333\n",
      "epoch => 30, acc = 0.9523809523809523, test_acc = 0.9555555555555556\n",
      "epoch => 31, acc = 0.9523809523809523, test_acc = 0.9555555555555556\n",
      "epoch => 32, acc = 0.9523809523809523, test_acc = 0.9555555555555556\n",
      "epoch => 33, acc = 0.9523809523809523, test_acc = 0.9777777777777777\n",
      "epoch => 34, acc = 0.9523809523809523, test_acc = 0.9333333333333333\n",
      "epoch => 35, acc = 0.9523809523809523, test_acc = 0.9333333333333333\n",
      "epoch => 36, acc = 0.9523809523809523, test_acc = 0.9333333333333333\n",
      "epoch => 37, acc = 0.9523809523809523, test_acc = 0.9333333333333333\n",
      "epoch => 38, acc = 0.9523809523809523, test_acc = 0.9555555555555556\n",
      "epoch => 39, acc = 0.9523809523809523, test_acc = 0.9333333333333333\n",
      "epoch => 40, acc = 0.9523809523809523, test_acc = 0.9333333333333333\n",
      "epoch => 41, acc = 0.9523809523809523, test_acc = 0.9333333333333333\n",
      "epoch => 42, acc = 0.9523809523809523, test_acc = 0.9555555555555556\n",
      "epoch => 43, acc = 0.9523809523809523, test_acc = 0.9333333333333333\n",
      "epoch => 44, acc = 0.9523809523809523, test_acc = 0.9333333333333333\n",
      "epoch => 45, acc = 0.9523809523809523, test_acc = 0.9333333333333333\n",
      "epoch => 46, acc = 0.9523809523809523, test_acc = 0.9333333333333333\n",
      "epoch => 47, acc = 0.9523809523809523, test_acc = 0.9333333333333333\n",
      "epoch => 48, acc = 0.9523809523809523, test_acc = 0.9333333333333333\n",
      "epoch => 49, acc = 0.9523809523809523, test_acc = 0.9555555555555556\n",
      "epoch => 50, acc = 0.9523809523809523, test_acc = 0.9555555555555556\n",
      "epoch => 51, acc = 0.9523809523809523, test_acc = 0.9555555555555556\n",
      "epoch => 52, acc = 0.9523809523809523, test_acc = 0.9555555555555556\n",
      "epoch => 53, acc = 0.9523809523809523, test_acc = 0.9555555555555556\n",
      "epoch => 54, acc = 0.9523809523809523, test_acc = 0.9555555555555556\n",
      "epoch => 55, acc = 0.9523809523809523, test_acc = 0.9555555555555556\n",
      "epoch => 56, acc = 0.9523809523809523, test_acc = 0.9333333333333333\n",
      "epoch => 57, acc = 0.9523809523809523, test_acc = 0.9333333333333333\n",
      "epoch => 58, acc = 0.9523809523809523, test_acc = 0.9333333333333333\n",
      "epoch => 59, acc = 0.9523809523809523, test_acc = 0.9333333333333333\n",
      "epoch => 60, acc = 0.9523809523809523, test_acc = 0.9333333333333333\n",
      "epoch => 61, acc = 0.9523809523809523, test_acc = 0.9555555555555556\n",
      "epoch => 62, acc = 0.9523809523809523, test_acc = 0.9333333333333333\n",
      "epoch => 63, acc = 0.9523809523809523, test_acc = 0.9333333333333333\n",
      "epoch => 64, acc = 0.9523809523809523, test_acc = 0.9555555555555556\n",
      "epoch => 65, acc = 0.9523809523809523, test_acc = 0.9555555555555556\n",
      "epoch => 66, acc = 0.9523809523809523, test_acc = 0.9555555555555556\n",
      "epoch => 67, acc = 0.9523809523809523, test_acc = 0.9555555555555556\n",
      "epoch => 68, acc = 0.9619047619047619, test_acc = 0.9777777777777777\n",
      "epoch => 69, acc = 0.9619047619047619, test_acc = 0.9777777777777777\n",
      "epoch => 70, acc = 0.9714285714285714, test_acc = 1.0\n",
      "epoch => 71, acc = 0.9714285714285714, test_acc = 0.9777777777777777\n",
      "epoch => 72, acc = 0.9809523809523809, test_acc = 0.9777777777777777\n",
      "epoch => 73, acc = 0.9809523809523809, test_acc = 0.9555555555555556\n",
      "epoch => 74, acc = 0.9809523809523809, test_acc = 0.9555555555555556\n",
      "epoch => 75, acc = 0.9904761904761905, test_acc = 0.9777777777777777\n",
      "epoch => 76, acc = 0.9809523809523809, test_acc = 1.0\n",
      "epoch => 77, acc = 0.9809523809523809, test_acc = 0.9777777777777777\n",
      "epoch => 78, acc = 0.9809523809523809, test_acc = 0.9555555555555556\n",
      "epoch => 79, acc = 0.9714285714285714, test_acc = 0.9777777777777777\n",
      "epoch => 80, acc = 0.9809523809523809, test_acc = 0.9777777777777777\n",
      "epoch => 81, acc = 0.9809523809523809, test_acc = 0.9555555555555556\n",
      "epoch => 82, acc = 0.9809523809523809, test_acc = 1.0\n",
      "epoch => 83, acc = 0.9904761904761905, test_acc = 0.9777777777777777\n",
      "epoch => 84, acc = 0.9809523809523809, test_acc = 1.0\n",
      "epoch => 85, acc = 0.9809523809523809, test_acc = 0.9555555555555556\n",
      "epoch => 86, acc = 0.9809523809523809, test_acc = 1.0\n",
      "epoch => 87, acc = 0.9809523809523809, test_acc = 0.9777777777777777\n",
      "epoch => 88, acc = 0.9809523809523809, test_acc = 0.9777777777777777\n",
      "epoch => 89, acc = 0.9809523809523809, test_acc = 0.9555555555555556\n",
      "epoch => 90, acc = 0.9809523809523809, test_acc = 0.9777777777777777\n",
      "epoch => 91, acc = 0.9809523809523809, test_acc = 0.9777777777777777\n",
      "epoch => 92, acc = 0.9904761904761905, test_acc = 0.9777777777777777\n",
      "epoch => 93, acc = 0.9809523809523809, test_acc = 1.0\n",
      "epoch => 94, acc = 0.9809523809523809, test_acc = 0.9555555555555556\n",
      "epoch => 95, acc = 0.9809523809523809, test_acc = 0.9777777777777777\n",
      "epoch => 96, acc = 0.9809523809523809, test_acc = 0.9555555555555556\n",
      "epoch => 97, acc = 0.9809523809523809, test_acc = 0.9777777777777777\n",
      "epoch => 98, acc = 0.9904761904761905, test_acc = 0.9777777777777777\n",
      "epoch => 99, acc = 0.9809523809523809, test_acc = 1.0\n",
      "epoch => 100, acc = 0.9809523809523809, test_acc = 0.9777777777777777\n",
      "epoch => 101, acc = 0.9809523809523809, test_acc = 0.9555555555555556\n",
      "epoch => 102, acc = 0.9714285714285714, test_acc = 1.0\n",
      "epoch => 103, acc = 0.9809523809523809, test_acc = 1.0\n",
      "epoch => 104, acc = 0.9809523809523809, test_acc = 0.9777777777777777\n",
      "epoch => 105, acc = 0.9809523809523809, test_acc = 0.9777777777777777\n",
      "epoch => 106, acc = 0.9809523809523809, test_acc = 0.9555555555555556\n",
      "epoch => 107, acc = 0.9809523809523809, test_acc = 0.9777777777777777\n",
      "epoch => 108, acc = 0.9809523809523809, test_acc = 0.9777777777777777\n",
      "epoch => 109, acc = 0.9904761904761905, test_acc = 0.9777777777777777\n",
      "epoch => 110, acc = 0.9809523809523809, test_acc = 1.0\n",
      "epoch => 111, acc = 0.9904761904761905, test_acc = 0.9777777777777777\n",
      "epoch => 112, acc = 0.9904761904761905, test_acc = 0.9777777777777777\n",
      "epoch => 113, acc = 0.9904761904761905, test_acc = 0.9777777777777777\n",
      "epoch => 114, acc = 0.9904761904761905, test_acc = 0.9777777777777777\n",
      "epoch => 115, acc = 0.9904761904761905, test_acc = 0.9777777777777777\n",
      "epoch => 116, acc = 0.9904761904761905, test_acc = 0.9777777777777777\n",
      "epoch => 117, acc = 0.9809523809523809, test_acc = 0.9777777777777777\n",
      "epoch => 118, acc = 0.9809523809523809, test_acc = 0.9333333333333333\n",
      "epoch => 119, acc = 0.9809523809523809, test_acc = 1.0\n",
      "epoch => 120, acc = 0.9809523809523809, test_acc = 1.0\n",
      "epoch => 121, acc = 0.9809523809523809, test_acc = 0.9333333333333333\n",
      "epoch => 122, acc = 0.9809523809523809, test_acc = 1.0\n",
      "epoch => 123, acc = 0.9904761904761905, test_acc = 0.9777777777777777\n",
      "epoch => 124, acc = 0.9904761904761905, test_acc = 0.9777777777777777\n",
      "epoch => 125, acc = 0.9904761904761905, test_acc = 0.9777777777777777\n",
      "epoch => 126, acc = 0.9904761904761905, test_acc = 0.9777777777777777\n",
      "epoch => 127, acc = 0.9809523809523809, test_acc = 0.9777777777777777\n",
      "epoch => 128, acc = 0.9904761904761905, test_acc = 0.9777777777777777\n",
      "epoch => 129, acc = 0.9809523809523809, test_acc = 0.9555555555555556\n",
      "epoch => 130, acc = 0.9904761904761905, test_acc = 0.9555555555555556\n",
      "epoch => 131, acc = 0.9904761904761905, test_acc = 0.9777777777777777\n",
      "epoch => 132, acc = 0.9809523809523809, test_acc = 0.9777777777777777\n",
      "epoch => 133, acc = 0.9809523809523809, test_acc = 1.0\n",
      "epoch => 134, acc = 0.9904761904761905, test_acc = 0.9555555555555556\n",
      "epoch => 135, acc = 0.9904761904761905, test_acc = 0.9777777777777777\n",
      "epoch => 136, acc = 0.9904761904761905, test_acc = 0.9777777777777777\n",
      "epoch => 137, acc = 0.9809523809523809, test_acc = 0.9777777777777777\n",
      "epoch => 138, acc = 0.9809523809523809, test_acc = 0.9777777777777777\n",
      "epoch => 139, acc = 0.9904761904761905, test_acc = 0.9777777777777777\n",
      "epoch => 140, acc = 0.9904761904761905, test_acc = 0.9555555555555556\n",
      "epoch => 141, acc = 0.9904761904761905, test_acc = 0.9777777777777777\n",
      "epoch => 142, acc = 0.9904761904761905, test_acc = 0.9777777777777777\n",
      "epoch => 143, acc = 0.9809523809523809, test_acc = 0.9333333333333333\n",
      "epoch => 144, acc = 0.9809523809523809, test_acc = 0.9777777777777777\n",
      "epoch => 145, acc = 0.9809523809523809, test_acc = 0.9777777777777777\n",
      "epoch => 146, acc = 0.9904761904761905, test_acc = 0.9777777777777777\n",
      "epoch => 147, acc = 0.9809523809523809, test_acc = 0.9555555555555556\n",
      "epoch => 148, acc = 0.9904761904761905, test_acc = 0.9777777777777777\n",
      "epoch => 149, acc = 0.9809523809523809, test_acc = 1.0\n",
      "epoch => 150, acc = 0.9809523809523809, test_acc = 0.9555555555555556\n",
      "epoch => 151, acc = 0.9809523809523809, test_acc = 1.0\n",
      "epoch => 152, acc = 0.9809523809523809, test_acc = 0.9555555555555556\n",
      "epoch => 153, acc = 0.9809523809523809, test_acc = 0.9777777777777777\n",
      "epoch => 154, acc = 0.9809523809523809, test_acc = 0.9777777777777777\n",
      "epoch => 155, acc = 0.9809523809523809, test_acc = 0.9333333333333333\n",
      "epoch => 156, acc = 0.9809523809523809, test_acc = 0.9777777777777777\n",
      "epoch => 157, acc = 0.9809523809523809, test_acc = 0.9777777777777777\n",
      "epoch => 158, acc = 0.9809523809523809, test_acc = 0.9555555555555556\n",
      "epoch => 159, acc = 0.9809523809523809, test_acc = 0.9777777777777777\n",
      "epoch => 160, acc = 0.9809523809523809, test_acc = 0.9555555555555556\n",
      "epoch => 161, acc = 0.9809523809523809, test_acc = 0.9555555555555556\n",
      "epoch => 162, acc = 0.9809523809523809, test_acc = 0.9333333333333333\n",
      "epoch => 163, acc = 0.9809523809523809, test_acc = 0.9777777777777777\n",
      "epoch => 164, acc = 0.9809523809523809, test_acc = 0.9777777777777777\n",
      "epoch => 165, acc = 0.9809523809523809, test_acc = 0.9777777777777777\n",
      "epoch => 166, acc = 0.9809523809523809, test_acc = 0.9777777777777777\n",
      "epoch => 167, acc = 0.9809523809523809, test_acc = 0.9777777777777777\n",
      "epoch => 168, acc = 0.9809523809523809, test_acc = 0.9777777777777777\n",
      "epoch => 169, acc = 0.9809523809523809, test_acc = 0.9777777777777777\n",
      "epoch => 170, acc = 0.9809523809523809, test_acc = 0.9777777777777777\n",
      "epoch => 171, acc = 0.9809523809523809, test_acc = 0.9777777777777777\n",
      "epoch => 172, acc = 0.9809523809523809, test_acc = 0.9777777777777777\n",
      "epoch => 173, acc = 0.9809523809523809, test_acc = 0.9555555555555556\n",
      "epoch => 174, acc = 0.9809523809523809, test_acc = 0.9777777777777777\n",
      "epoch => 175, acc = 0.9809523809523809, test_acc = 0.9777777777777777\n",
      "epoch => 176, acc = 0.9809523809523809, test_acc = 0.9777777777777777\n",
      "epoch => 177, acc = 0.9809523809523809, test_acc = 0.9777777777777777\n",
      "epoch => 178, acc = 0.9809523809523809, test_acc = 0.9777777777777777\n",
      "epoch => 179, acc = 0.9809523809523809, test_acc = 0.9777777777777777\n",
      "epoch => 180, acc = 0.9809523809523809, test_acc = 0.9555555555555556\n",
      "epoch => 181, acc = 0.9809523809523809, test_acc = 0.9777777777777777\n",
      "epoch => 182, acc = 0.9809523809523809, test_acc = 0.9777777777777777\n",
      "epoch => 183, acc = 0.9809523809523809, test_acc = 0.9777777777777777\n",
      "epoch => 184, acc = 0.9904761904761905, test_acc = 0.9555555555555556\n",
      "epoch => 185, acc = 0.9904761904761905, test_acc = 0.9777777777777777\n",
      "epoch => 186, acc = 0.9904761904761905, test_acc = 0.9777777777777777\n",
      "epoch => 187, acc = 0.9904761904761905, test_acc = 0.9777777777777777\n",
      "epoch => 188, acc = 0.9904761904761905, test_acc = 0.9777777777777777\n",
      "epoch => 189, acc = 0.9904761904761905, test_acc = 0.9777777777777777\n",
      "epoch => 190, acc = 0.9904761904761905, test_acc = 0.9555555555555556\n",
      "epoch => 191, acc = 0.9904761904761905, test_acc = 0.9555555555555556\n",
      "epoch => 192, acc = 0.9904761904761905, test_acc = 0.9555555555555556\n",
      "epoch => 193, acc = 0.9904761904761905, test_acc = 0.9777777777777777\n",
      "epoch => 194, acc = 0.9904761904761905, test_acc = 0.9777777777777777\n",
      "epoch => 195, acc = 0.9904761904761905, test_acc = 0.9777777777777777\n",
      "epoch => 196, acc = 0.9904761904761905, test_acc = 0.9777777777777777\n",
      "epoch => 197, acc = 0.9904761904761905, test_acc = 0.9555555555555556\n",
      "epoch => 198, acc = 0.9904761904761905, test_acc = 0.9777777777777777\n",
      "epoch => 199, acc = 0.9904761904761905, test_acc = 0.9555555555555556\n"
     ]
    }
   ],
   "source": [
    "model = train([model], 200, X_train, y_train, X_test, y_test, 2, 0.1, 1000, \"dodel\")"
   ]
  },
  {
   "cell_type": "code",
   "execution_count": 92,
   "id": "2198e88b-2396-447b-a867-aca9d8354ead",
   "metadata": {},
   "outputs": [],
   "source": [
    "%load_ext tensorboard"
   ]
  },
  {
   "cell_type": "code",
   "execution_count": null,
   "id": "69468b6a-48f1-4359-bb8c-e39d676c87bd",
   "metadata": {},
   "outputs": [],
   "source": [
    "%reload_ext tensorboard"
   ]
  },
  {
   "cell_type": "code",
   "execution_count": 93,
   "id": "72eb2a5f-8332-40e7-a329-8a0a50c3bdc9",
   "metadata": {},
   "outputs": [
    {
     "data": {
      "text/html": [
       "\n",
       "      <iframe id=\"tensorboard-frame-b9964e0a24a14972\" width=\"100%\" height=\"800\" frameborder=\"0\">\n",
       "      </iframe>\n",
       "      <script>\n",
       "        (function() {\n",
       "          const frame = document.getElementById(\"tensorboard-frame-b9964e0a24a14972\");\n",
       "          const url = new URL(\"/\", window.location);\n",
       "          const port = 6009;\n",
       "          if (port) {\n",
       "            url.port = port;\n",
       "          }\n",
       "          frame.src = url;\n",
       "        })();\n",
       "      </script>\n",
       "    "
      ],
      "text/plain": [
       "<IPython.core.display.HTML object>"
      ]
     },
     "metadata": {},
     "output_type": "display_data"
    }
   ],
   "source": [
    "%tensorboard --logdir runs/ --port=6009"
   ]
  },
  {
   "cell_type": "code",
   "execution_count": null,
   "id": "697502d2-a905-4312-b949-6a187192124e",
   "metadata": {},
   "outputs": [],
   "source": []
  }
 ],
 "metadata": {
  "kernelspec": {
   "display_name": "Python 3 (ipykernel)",
   "language": "python",
   "name": "python3"
  },
  "language_info": {
   "codemirror_mode": {
    "name": "ipython",
    "version": 3
   },
   "file_extension": ".py",
   "mimetype": "text/x-python",
   "name": "python",
   "nbconvert_exporter": "python",
   "pygments_lexer": "ipython3",
   "version": "3.11.3"
  }
 },
 "nbformat": 4,
 "nbformat_minor": 5
}
