{
 "cells": [
  {
   "cell_type": "code",
   "execution_count": 1,
   "id": "79de5ad9-c075-4e3e-9dac-c8d796380459",
   "metadata": {},
   "outputs": [],
   "source": [
    "import numpy as np\n",
    "from sklearn.datasets import load_iris\n",
    "from sklearn.model_selection import train_test_split\n",
    "from sklearn.preprocessing import StandardScaler\n",
    "from sklearn.metrics import accuracy_score, precision_score, recall_score, f1_score\n",
    "import skfuzzy as fuzz\n",
    "from skfuzzy import control as ctrl\n",
    "from deap import algorithms, base, creator, tools"
   ]
  },
  {
   "cell_type": "code",
   "execution_count": 2,
   "id": "f37b13f5-5b6d-4292-adca-cf4e643f07cf",
   "metadata": {},
   "outputs": [],
   "source": [
    "iris = load_iris()\n",
    "X, y = iris.data, iris.target"
   ]
  },
  {
   "cell_type": "code",
   "execution_count": 3,
   "id": "0a5a5c5a-c9f1-4c35-ac78-1d4c674ec73f",
   "metadata": {},
   "outputs": [],
   "source": [
    "X_train, X_test, y_train, y_test = train_test_split(X, y, test_size=0.2, random_state=42)"
   ]
  },
  {
   "cell_type": "code",
   "execution_count": 4,
   "id": "ca83d9e5-dddc-4db1-b88f-4fdcdc5895f3",
   "metadata": {},
   "outputs": [
    {
     "data": {
      "text/plain": [
       "array([7.7, 4.4, 6.7, 2.5])"
      ]
     },
     "execution_count": 4,
     "metadata": {},
     "output_type": "execute_result"
    }
   ],
   "source": [
    "np.max(X_train, axis=0)"
   ]
  },
  {
   "cell_type": "code",
   "execution_count": 5,
   "id": "f14f6486-4b13-40ea-8d95-839c1c4c4208",
   "metadata": {},
   "outputs": [
    {
     "data": {
      "text/plain": [
       "array([4.3, 2. , 1. , 0.1])"
      ]
     },
     "execution_count": 5,
     "metadata": {},
     "output_type": "execute_result"
    }
   ],
   "source": [
    "np.min(X_train, axis=0)"
   ]
  },
  {
   "cell_type": "code",
   "execution_count": 6,
   "id": "93c44450-2678-472a-803d-d5630b035d97",
   "metadata": {},
   "outputs": [],
   "source": [
    "sepal_length = ctrl.Antecedent(np.arange(4.3, 7.8, 0.1), 'sepal_length')\n",
    "sepal_width = ctrl.Antecedent(np.arange(2.0, 4.5, 0.1), 'sepal_width')\n",
    "petal_length = ctrl.Antecedent(np.arange(1.0, 6.8, 0.1), 'petal_length')\n",
    "petal_width = ctrl.Antecedent(np.arange(0.1, 2.6, 0.1), 'petal_width')\n",
    "y_class = ctrl.Consequent(np.arange(0, 3, 1), 'y_class')\n",
    "\n",
    "sl_mid = 4.3 + ((7.7 - 4.3)/2)\n",
    "sepal_length['poor'] = fuzz.trimf(sepal_length.universe, [4.3, 4.3, sl_mid])\n",
    "sepal_length['average'] = fuzz.trimf(sepal_length.universe, [4.3, sl_mid, 7.7])\n",
    "sepal_length['good'] = fuzz.trimf(sepal_length.universe, [sl_mid, 7.7, 7.7])\n",
    "\n",
    "sw_mid = 2.0 + ((4.4 - 2.0)/2)\n",
    "sepal_width['poor'] = fuzz.trimf(sepal_width.universe, [2.0, 2.0, sw_mid])\n",
    "sepal_width['average'] = fuzz.trimf(sepal_width.universe, [2.0, sw_mid, 4.4])\n",
    "sepal_width['good'] = fuzz.trimf(sepal_width.universe, [sw_mid, 4.4, 4.4])\n",
    "\n",
    "pl_mid = 1.0 + ((6.7 - 1.0)/2)\n",
    "petal_length['poor'] = fuzz.trimf(petal_length.universe, [1.0, 1.0, pl_mid])\n",
    "petal_length['average'] = fuzz.trimf(petal_length.universe, [1.0, pl_mid, 6.7])\n",
    "petal_length['good'] = fuzz.trimf(petal_length.universe, [pl_mid, 6.7, 6.7])\n",
    "\n",
    "pw_mid = 0.1 + ((2.5 - 0.1)/2)\n",
    "petal_width['poor'] = fuzz.trimf(petal_width.universe, [0.1, 0.1, pw_mid])\n",
    "petal_width['average'] = fuzz.trimf(petal_width.universe, [0.1, pw_mid, 2.5])\n",
    "petal_width['good'] = fuzz.trimf(petal_width.universe, [pw_mid, 2.5, 2.5])\n",
    "\n",
    "y_class['Iris-setosa'] = fuzz.trimf(y_class.universe, [0, 0, 1])\n",
    "y_class['Iris-versicolor'] = fuzz.trimf(y_class.universe, [0, 1, 2])\n",
    "y_class['Iris-virginica'] = fuzz.trimf(y_class.universe, [1, 2, 2])"
   ]
  },
  {
   "cell_type": "markdown",
   "id": "56848852-172c-4db7-83dc-53f146aa5ad0",
   "metadata": {
    "jupyter": {
     "source_hidden": true
    }
   },
   "source": [
    "sepal_length = ctrl.Antecedent(np.arange(x[:, 0].min(), x[:, 0].max(), 0.1), 'sepal_length')\n",
    "sepal_width = ctrl.Antecedent(np.arange(x[:, 1].min(), x[:, 1].max(), 0.1), 'sepal_width')\n",
    "petal_length = ctrl.Antecedent(np.arange(x[:, 2].min(), x[:, 2].max(), 0.1), 'petal_length')\n",
    "petal_width = ctrl.Antecedent(np.arange(x[:, 3].min(), x[:, 3].max(), 0.1), 'petal_width')\n",
    "y_class = ctrl.Consequent(np.arange(0, 3, 1), 'y_class')\n",
    "\n",
    "#sepal_length.automf(3)\n",
    "mid = x[:, 0].min() + ((x[:, 0].max() - x[:, 0].min())/2)\n",
    "sepal_length['poor'] = fuzz.trimf(sepal_length.universe, [x[:, 0].min(), x[:, 0].min(), mid])\n",
    "sepal_length['average'] = fuzz.trimf(sepal_length.universe, [x[:, 0].min(), mid, x[:, 0].max()])\n",
    "sepal_length['good'] = fuzz.trimf(sepal_length.universe, [mid, x[:, 0].max(), x[:, 0].max()])\n",
    "#sepal_width.automf(3)\n",
    "sw_mid = x[:, 1].min() + ((x[:, 1].max() - x[:, 1].min())/2)\n",
    "sepal_width['poor'] = fuzz.trimf(sepal_width.universe, [x[:, 1].min(), x[:, 1].min(), sw_mid])\n",
    "sepal_width['average'] = fuzz.trimf(sepal_width.universe, [x[:, 1].min(), sw_mid, x[:, 1].max()])\n",
    "sepal_width['good'] = fuzz.trimf(sepal_width.universe, [sw_mid, x[:, 1].max(), x[:, 1].max()])\n",
    "#petal_length.automf(3)\n",
    "pl_mid = x[:, 1].min() + ((x[:, 2].max() - x[:, 2].min())/2)\n",
    "petal_length['poor'] = fuzz.trimf(petal_length.universe, [x[:, 2].min(), x[:, 2].min(), pl_mid])\n",
    "petal_length['average'] = fuzz.trimf(petal_length.universe, [x[:, 2].min(), pl_mid, x[:, 2].max()])\n",
    "petal_length['good'] = fuzz.trimf(petal_length.universe, [pl_mid, x[:, 2].max(), x[:, 2].max()])\n",
    "petal_width.automf(3)\n",
    "\n",
    "y_class['Iris-setosa'] = fuzz.trimf(y_class.universe, [0, 0, 1])\n",
    "y_class['Iris-versicolor'] = fuzz.trimf(y_class.universe, [0, 1, 2])\n",
    "y_class['Iris-virginica'] = fuzz.trimf(y_class.universe, [1, 2, 2])"
   ]
  },
  {
   "cell_type": "code",
   "execution_count": 7,
   "id": "c62a396a-8be9-4efd-8aec-c5c82a79b92f",
   "metadata": {},
   "outputs": [],
   "source": [
    "rule1 = ctrl.Rule(sepal_length[\"average\"] & sepal_width[\"average\"] & petal_length[\"poor\"] & petal_width[\"poor\"], y_class['Iris-setosa'])\n",
    "rule2 = ctrl.Rule(sepal_length[\"average\"] & sepal_width[\"average\"] & petal_length[\"average\"] & petal_width[\"average\"], y_class['Iris-versicolor'])\n",
    "rule3 = ctrl.Rule(sepal_length[\"good\"] & sepal_width[\"average\"] & petal_length[\"good\"] & petal_width[\"good\"], y_class['Iris-virginica'])"
   ]
  },
  {
   "cell_type": "code",
   "execution_count": 8,
   "id": "ed352eea-baa7-440a-8e15-877337a4dd3e",
   "metadata": {},
   "outputs": [],
   "source": [
    "iris_ctrl = ctrl.ControlSystem([rule1, rule2, rule3])\n",
    "iris_system = ctrl.ControlSystemSimulation(iris_ctrl)"
   ]
  },
  {
   "cell_type": "code",
   "execution_count": null,
   "id": "8c9fc17a-2217-46d7-a128-af748b4480a7",
   "metadata": {},
   "outputs": [],
   "source": [
    "# оцінка функції придатності\n",
    "def evaluate_system(params):\n",
    " # задання параметрів нечіткої системи\n",
    " param_erythema = params[0] * 0.1 \n",
    " param_scaling = params[1] * 0.1"
   ]
  }
 ],
 "metadata": {
  "kernelspec": {
   "display_name": "Python 3 (ipykernel)",
   "language": "python",
   "name": "python3"
  },
  "language_info": {
   "codemirror_mode": {
    "name": "ipython",
    "version": 3
   },
   "file_extension": ".py",
   "mimetype": "text/x-python",
   "name": "python",
   "nbconvert_exporter": "python",
   "pygments_lexer": "ipython3",
   "version": "3.11.3"
  }
 },
 "nbformat": 4,
 "nbformat_minor": 5
}
