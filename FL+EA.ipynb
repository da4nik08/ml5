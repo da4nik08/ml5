{
 "cells": [
  {
   "cell_type": "code",
   "execution_count": 1,
   "id": "79de5ad9-c075-4e3e-9dac-c8d796380459",
   "metadata": {},
   "outputs": [],
   "source": [
    "import numpy as np\n",
    "from sklearn.datasets import load_iris\n",
    "from sklearn.model_selection import train_test_split\n",
    "from sklearn.preprocessing import StandardScaler\n",
    "from sklearn.metrics import accuracy_score, precision_score, recall_score, f1_score\n",
    "import skfuzzy as fuzz\n",
    "from skfuzzy import control as ctrl\n",
    "from deap import algorithms, base, creator, tools\n",
    "import matplotlib.pyplot as plt"
   ]
  },
  {
   "cell_type": "code",
   "execution_count": 2,
   "id": "f37b13f5-5b6d-4292-adca-cf4e643f07cf",
   "metadata": {},
   "outputs": [],
   "source": [
    "iris = load_iris()\n",
    "X, y = iris.data, iris.target"
   ]
  },
  {
   "cell_type": "code",
   "execution_count": 3,
   "id": "0a5a5c5a-c9f1-4c35-ac78-1d4c674ec73f",
   "metadata": {},
   "outputs": [],
   "source": [
    "X_train, X_test, y_train, y_test = train_test_split(X, y, test_size=0.2, random_state=42)"
   ]
  },
  {
   "cell_type": "code",
   "execution_count": 4,
   "id": "ca83d9e5-dddc-4db1-b88f-4fdcdc5895f3",
   "metadata": {},
   "outputs": [
    {
     "data": {
      "text/plain": [
       "array([7.7, 4.4, 6.7, 2.5])"
      ]
     },
     "execution_count": 4,
     "metadata": {},
     "output_type": "execute_result"
    }
   ],
   "source": [
    "np.max(X_train, axis=0)"
   ]
  },
  {
   "cell_type": "code",
   "execution_count": 5,
   "id": "f14f6486-4b13-40ea-8d95-839c1c4c4208",
   "metadata": {},
   "outputs": [
    {
     "data": {
      "text/plain": [
       "array([4.3, 2. , 1. , 0.1])"
      ]
     },
     "execution_count": 5,
     "metadata": {},
     "output_type": "execute_result"
    }
   ],
   "source": [
    "np.min(X_train, axis=0)"
   ]
  },
  {
   "cell_type": "code",
   "execution_count": 6,
   "id": "93c44450-2678-472a-803d-d5630b035d97",
   "metadata": {},
   "outputs": [],
   "source": [
    "sepal_length = ctrl.Antecedent(np.arange(4.3, 7.8, 0.1), 'sepal_length')\n",
    "sepal_width = ctrl.Antecedent(np.arange(2.0, 4.5, 0.1), 'sepal_width')\n",
    "petal_length = ctrl.Antecedent(np.arange(1.0, 6.8, 0.1), 'petal_length')\n",
    "petal_width = ctrl.Antecedent(np.arange(0.1, 2.6, 0.1), 'petal_width')\n",
    "y_class = ctrl.Consequent(np.arange(0, 3, 1), 'y_class')\n",
    "\n",
    "sl_mid = 4.3 + ((7.7 - 4.3)/2)\n",
    "sepal_length['poor'] = fuzz.trimf(sepal_length.universe, [4.3, 4.3, sl_mid])\n",
    "sepal_length['average'] = fuzz.trimf(sepal_length.universe, [4.3, sl_mid, 7.7])\n",
    "sepal_length['good'] = fuzz.trimf(sepal_length.universe, [sl_mid, 7.7, 7.7])\n",
    "\n",
    "sw_mid = 2.0 + ((4.4 - 2.0)/2)\n",
    "sepal_width['poor'] = fuzz.trimf(sepal_width.universe, [2.0, 2.0, sw_mid])\n",
    "sepal_width['average'] = fuzz.trimf(sepal_width.universe, [2.0, sw_mid, 4.4])\n",
    "sepal_width['good'] = fuzz.trimf(sepal_width.universe, [sw_mid, 4.4, 4.4])\n",
    "\n",
    "pl_mid = 1.0 + ((6.7 - 1.0)/2)\n",
    "petal_length['poor'] = fuzz.trimf(petal_length.universe, [1.0, 1.0, pl_mid])\n",
    "petal_length['average'] = fuzz.trimf(petal_length.universe, [1.0, pl_mid, 6.7])\n",
    "petal_length['good'] = fuzz.trimf(petal_length.universe, [pl_mid, 6.7, 6.7])\n",
    "\n",
    "pw_mid = 0.1 + ((2.5 - 0.1)/2)\n",
    "petal_width['poor'] = fuzz.trimf(petal_width.universe, [0.1, 0.1, pw_mid])\n",
    "petal_width['average'] = fuzz.trimf(petal_width.universe, [0.1, pw_mid, 2.5])\n",
    "petal_width['good'] = fuzz.trimf(petal_width.universe, [pw_mid, 2.5, 2.5])\n",
    "\n",
    "y_class['Iris-setosa'] = fuzz.trimf(y_class.universe, [0, 0, 1])\n",
    "y_class['Iris-versicolor'] = fuzz.trimf(y_class.universe, [0, 1, 2])\n",
    "y_class['Iris-virginica'] = fuzz.trimf(y_class.universe, [1, 2, 2])"
   ]
  },
  {
   "cell_type": "code",
   "execution_count": 7,
   "id": "c62a396a-8be9-4efd-8aec-c5c82a79b92f",
   "metadata": {},
   "outputs": [],
   "source": [
    "rule1 = ctrl.Rule(sepal_length[\"average\"] & sepal_width[\"average\"] & petal_length[\"poor\"] & petal_width[\"poor\"], y_class['Iris-setosa'])\n",
    "rule2 = ctrl.Rule(sepal_length[\"average\"] & sepal_width[\"average\"] & petal_length[\"average\"] & petal_width[\"average\"], y_class['Iris-versicolor'])\n",
    "rule3 = ctrl.Rule(sepal_length[\"good\"] & sepal_width[\"average\"] & petal_length[\"good\"] & petal_width[\"good\"], y_class['Iris-virginica'])"
   ]
  },
  {
   "cell_type": "code",
   "execution_count": 8,
   "id": "ed352eea-baa7-440a-8e15-877337a4dd3e",
   "metadata": {},
   "outputs": [],
   "source": [
    "iris_ctrl = ctrl.ControlSystem([rule1, rule2, rule3])\n",
    "classification = ctrl.ControlSystemSimulation(iris_ctrl)"
   ]
  },
  {
   "cell_type": "code",
   "execution_count": 9,
   "id": "8c9fc17a-2217-46d7-a128-af748b4480a7",
   "metadata": {},
   "outputs": [],
   "source": [
    "# оцінка функції придатності\n",
    "def evaluate_system(params):\n",
    "    # задання параметрів нечіткої системи\n",
    "    param_sepal_length = params[0]\n",
    "    param_sepal_width = params[1]\n",
    "    param_petal_length = params[2]\n",
    "    param_petal_width = params[3]\n",
    "\n",
    "    classification.input['sepal_length'] = param_sepal_length\n",
    "    classification.input['sepal_width'] = param_sepal_width\n",
    "    classification.input['petal_length'] = param_petal_length\n",
    "    classification.input['petal_width'] = param_petal_width\n",
    "\n",
    "    try:\n",
    "        classification.compute()\n",
    "        predictions = classification.output['y_class']\n",
    "\n",
    "        accuracy = accuracy_score(y_test, np.array([round(predictions)] * len(X_test)))\n",
    "        precision = precision_score(y_test, np.array([round(predictions)] * len(X_test)), average='weighted', zero_division=0)\n",
    "        recall = recall_score(y_test, np.array([round(predictions)] * len(X_test)), average='weighted')\n",
    "        f1 = f1_score(y_test, np.array([round(predictions)] * len(X_test)), average='weighted')\n",
    "        return accuracy, precision, recall, f1\n",
    "\n",
    "    except:\n",
    "        return 0, 0, 0, 0"
   ]
  },
  {
   "cell_type": "code",
   "execution_count": 10,
   "id": "237a987e-5961-4318-ab11-a9c5e0a5e5e8",
   "metadata": {},
   "outputs": [],
   "source": [
    "if not hasattr(creator, 'FitnessMulti'):\n",
    "    creator.create(\"FitnessMulti\", base.Fitness, weights=(5.0, 3.0, 4.0, 1.5))\n",
    "if not hasattr(creator, 'Individual'):\n",
    "    creator.create(\"Individual\", list, fitness=creator.FitnessMulti)"
   ]
  },
  {
   "cell_type": "code",
   "execution_count": 11,
   "id": "4de8247e-211f-440f-93c9-4f2c33fa5f5a",
   "metadata": {},
   "outputs": [],
   "source": [
    "toolbox = base.Toolbox()\n",
    "toolbox.register(\"attr_float1\", np.random.uniform, 4.3, 7.7)\n",
    "toolbox.register(\"attr_float2\", np.random.uniform, 2.0, 4.4)\n",
    "toolbox.register(\"attr_float3\", np.random.uniform, 1.0, 6.7)\n",
    "toolbox.register(\"attr_float4\", np.random.uniform, 0.1, 2.5)\n",
    "toolbox.register(\"individual\", tools.initCycle, creator.Individual, (toolbox.attr_float1, toolbox.attr_float2, toolbox.attr_float3, toolbox.attr_float4), n=1)\n",
    "toolbox.register(\"population\", tools.initRepeat, list, toolbox.individual)\n",
    "toolbox.register(\"evaluate\", evaluate_system)\n",
    "toolbox.register(\"mate\", tools.cxTwoPoint)\n",
    "toolbox.register(\"mutate\", tools.mutGaussian, mu=0, sigma=1, indpb=0.2)\n",
    "toolbox.register(\"select\", tools.selTournament, tournsize=3)"
   ]
  },
  {
   "cell_type": "code",
   "execution_count": 12,
   "id": "72c335d6-73da-4ae7-86e2-522b6ed9f644",
   "metadata": {},
   "outputs": [
    {
     "name": "stdout",
     "output_type": "stream",
     "text": [
      "gen\tnevals\n",
      "0  \t100   \n",
      "1  \t92    \n",
      "2  \t89    \n",
      "3  \t89    \n",
      "4  \t94    \n",
      "5  \t92    \n",
      "6  \t91    \n",
      "7  \t89    \n",
      "8  \t88    \n",
      "9  \t87    \n",
      "10 \t94    \n",
      "11 \t94    \n",
      "12 \t88    \n",
      "13 \t90    \n",
      "14 \t92    \n",
      "15 \t91    \n",
      "16 \t95    \n",
      "17 \t92    \n",
      "18 \t92    \n",
      "19 \t97    \n",
      "20 \t94    \n",
      "Accuracy on test data: 0.3333333333333333\n",
      "Precision: 0.1111111111111111\n",
      "Recall: 0.3333333333333333\n",
      "F1 Score: 0.16666666666666666\n"
     ]
    },
    {
     "data": {
      "image/png": "[encoded data removed]",
      "text/plain": [
       "<Figure size 640x480 with 1 Axes>"
      ]
     },
     "metadata": {},
     "output_type": "display_data"
    }
   ],
   "source": [
    "# налаштування EA\n",
    "population_size = 100\n",
    "generations = 20\n",
    "cxpb = 0.5\n",
    "mutpb = 0.4\n",
    "pop = toolbox.population(n=population_size)\n",
    "# визначення алгоритму\n",
    "algorithm = algorithms.eaMuCommaLambda\n",
    "population, logbook = algorithm(pop, toolbox, mu=population_size, lambda_=population_size, cxpb=cxpb, mutpb=mutpb, ngen=generations, stats=None, halloffame=None)\n",
    "# отримання найкращого рішення\n",
    "best_individual = tools.selBest(pop, 1)[0]\n",
    "best_params = best_individual\n",
    "# задання параметрів нечіткої системи з найкращим рішенням\n",
    "classification.input['sepal_length'] = best_params[0]\n",
    "classification.input['sepal_width'] = best_params[1]\n",
    "classification.input['petal_length'] = best_params[2]\n",
    "classification.input['petal_width'] = best_params[3]\n",
    "\n",
    "try:\n",
    "    classification.compute()\n",
    "    test_predictions = np.array([round(classification.output['y_class'])] * len(X_test))\n",
    "    best_accuracy, best_precision, best_recall, best_f1 = evaluate_system(best_params)\n",
    "    # вивід метрик\n",
    "    print(\"Accuracy on test data:\", best_accuracy)\n",
    "    print(\"Precision:\", best_precision)\n",
    "    print(\"Recall:\", best_recall)\n",
    "    print(\"F1 Score:\", best_f1)\n",
    "    # діаграма розсіювання навчальних даних\n",
    "    plt.scatter(X_train[:, 1], X_train[:, 0], c=y_train, cmap=plt.cm.coolwarm, s=20, edgecolors='k')\n",
    "    plt.title(\"Training Data\")\n",
    "    plt.xlabel(\"Erythema\")\n",
    "    plt.ylabel(\"Scaling\")\n",
    "    plt.show()\n",
    "except ValueError as e:\n",
    "    print(\"Error:\", e)"
   ]
  },
  {
   "cell_type": "code",
   "execution_count": null,
   "id": "91178efc-b078-4d51-8922-132ad8a5dec7",
   "metadata": {},
   "outputs": [],
   "source": []
  }
 ],
 "metadata": {
  "kernelspec": {
   "display_name": "Python 3 (ipykernel)",
   "language": "python",
   "name": "python3"
  },
  "language_info": {
   "codemirror_mode": {
    "name": "ipython",
    "version": 3
   },
   "file_extension": ".py",
   "mimetype": "text/x-python",
   "name": "python",
   "nbconvert_exporter": "python",
   "pygments_lexer": "ipython3",
   "version": "3.11.3"
  }
 },
 "nbformat": 4,
 "nbformat_minor": 5
}
