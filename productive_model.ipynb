{
 "cells": [
  {
   "cell_type": "code",
   "execution_count": 2,
   "id": "82476bc4-e95f-4db3-9f1d-7ccd6f86680d",
   "metadata": {},
   "outputs": [],
   "source": [
    "import pandas as pd"
   ]
  },
  {
   "cell_type": "markdown",
   "id": "8fd9a0d9-c9ea-4b1c-8196-42a149cd08dd",
   "metadata": {},
   "source": [
    "# Create data"
   ]
  },
  {
   "cell_type": "code",
   "execution_count": 6,
   "id": "6800a5c2-a331-459b-980f-b378d1c23ed9",
   "metadata": {},
   "outputs": [],
   "source": [
    "data = {\n",
    "    'Тип судна': ['Пасажирський літак', 'Гелікоптер', 'Дрон', 'Грузовий літак'],\n",
    "    'Маршрути': ['Внутрішні', 'Міжнародні', 'Регіональні'],\n",
    "    'Погодні умови': ['Туман', 'Сніг', 'Дощ', 'Шторм', 'Ожеледь', 'Ясно', 'Хмарно'],\n",
    "    'Трафік': ['Високий', 'Низький', 'Середній'],\n",
    "    'Надзвичайні ситуації': ['Немає', 'Є']\n",
    "}"
   ]
  },
  {
   "cell_type": "code",
   "execution_count": 7,
   "id": "90ae1b79-05fd-4e79-a654-bb165ccd8d8d",
   "metadata": {},
   "outputs": [],
   "source": [
    "type2emerg = {\n",
    "    'Пасажирський літак': [True, False],\n",
    "    'Гелікоптер': [True, True],\n",
    "    'Дрон': [True, True],\n",
    "    'Грузовий літак': [True, False]\n",
    "}\n",
    "T2E = pd.DataFrame(type2emerg, index=['Немає', 'Є'])"
   ]
  },
  {
   "cell_type": "code",
   "execution_count": 5,
   "id": "4b2afc00-93f7-4ac1-a8c5-ba842856e4d0",
   "metadata": {},
   "outputs": [
    {
     "data": {
      "text/html": [
       "<div>\n",
       "<style scoped>\n",
       "    .dataframe tbody tr th:only-of-type {\n",
       "        vertical-align: middle;\n",
       "    }\n",
       "\n",
       "    .dataframe tbody tr th {\n",
       "        vertical-align: top;\n",
       "    }\n",
       "\n",
       "    .dataframe thead th {\n",
       "        text-align: right;\n",
       "    }\n",
       "</style>\n",
       "<table border=\"1\" class=\"dataframe\">\n",
       "  <thead>\n",
       "    <tr style=\"text-align: right;\">\n",
       "      <th></th>\n",
       "      <th>Пасажирський літак</th>\n",
       "      <th>Гелікоптер</th>\n",
       "      <th>Дрон</th>\n",
       "      <th>Грузовий літак</th>\n",
       "    </tr>\n",
       "  </thead>\n",
       "  <tbody>\n",
       "    <tr>\n",
       "      <th>Немає</th>\n",
       "      <td>True</td>\n",
       "      <td>True</td>\n",
       "      <td>True</td>\n",
       "      <td>True</td>\n",
       "    </tr>\n",
       "    <tr>\n",
       "      <th>Є</th>\n",
       "      <td>False</td>\n",
       "      <td>True</td>\n",
       "      <td>True</td>\n",
       "      <td>False</td>\n",
       "    </tr>\n",
       "  </tbody>\n",
       "</table>\n",
       "</div>"
      ],
      "text/plain": [
       "       Пасажирський літак  Гелікоптер  Дрон  Грузовий літак\n",
       "Немає                True        True  True            True\n",
       "Є                   False        True  True           False"
      ]
     },
     "execution_count": 5,
     "metadata": {},
     "output_type": "execute_result"
    }
   ],
   "source": [
    "T2E"
   ]
  },
  {
   "cell_type": "code",
   "execution_count": 8,
   "id": "9bdf1f70-c2c2-4f21-860c-5b0cc8b39e93",
   "metadata": {
    "scrolled": true
   },
   "outputs": [],
   "source": [
    "type2wether = {\n",
    "    'Пасажирський літак': [True, True, True, False, True, True, True],\n",
    "    'Гелікоптер': [False, False, True, False, True, True, True],\n",
    "    'Дрон': [False, False, False, False, True, True, True],\n",
    "    'Грузовий літак': [True, True, True, False, True, True, True]\n",
    "}\n",
    "T2W = pd.DataFrame(type2wether, index=['Туман', 'Сніг', 'Дощ', 'Шторм', 'Ожеледь', 'Ясно', 'Хмарно'])"
   ]
  },
  {
   "cell_type": "code",
   "execution_count": 32,
   "id": "4a601387-111c-4ff6-a73e-dfcd239e2ca7",
   "metadata": {},
   "outputs": [
    {
     "data": {
      "text/html": [
       "<div>\n",
       "<style scoped>\n",
       "    .dataframe tbody tr th:only-of-type {\n",
       "        vertical-align: middle;\n",
       "    }\n",
       "\n",
       "    .dataframe tbody tr th {\n",
       "        vertical-align: top;\n",
       "    }\n",
       "\n",
       "    .dataframe thead th {\n",
       "        text-align: right;\n",
       "    }\n",
       "</style>\n",
       "<table border=\"1\" class=\"dataframe\">\n",
       "  <thead>\n",
       "    <tr style=\"text-align: right;\">\n",
       "      <th></th>\n",
       "      <th>Пасажирський літак</th>\n",
       "      <th>Гелікоптер</th>\n",
       "      <th>Дрон</th>\n",
       "      <th>Грузовий літак</th>\n",
       "    </tr>\n",
       "  </thead>\n",
       "  <tbody>\n",
       "    <tr>\n",
       "      <th>Туман</th>\n",
       "      <td>True</td>\n",
       "      <td>False</td>\n",
       "      <td>False</td>\n",
       "      <td>True</td>\n",
       "    </tr>\n",
       "    <tr>\n",
       "      <th>Сніг</th>\n",
       "      <td>True</td>\n",
       "      <td>False</td>\n",
       "      <td>False</td>\n",
       "      <td>True</td>\n",
       "    </tr>\n",
       "    <tr>\n",
       "      <th>Дощ</th>\n",
       "      <td>True</td>\n",
       "      <td>True</td>\n",
       "      <td>False</td>\n",
       "      <td>True</td>\n",
       "    </tr>\n",
       "    <tr>\n",
       "      <th>Шторм</th>\n",
       "      <td>False</td>\n",
       "      <td>False</td>\n",
       "      <td>False</td>\n",
       "      <td>False</td>\n",
       "    </tr>\n",
       "    <tr>\n",
       "      <th>Ожеледь</th>\n",
       "      <td>True</td>\n",
       "      <td>True</td>\n",
       "      <td>True</td>\n",
       "      <td>True</td>\n",
       "    </tr>\n",
       "    <tr>\n",
       "      <th>Ясно</th>\n",
       "      <td>True</td>\n",
       "      <td>True</td>\n",
       "      <td>True</td>\n",
       "      <td>True</td>\n",
       "    </tr>\n",
       "    <tr>\n",
       "      <th>Хмарно</th>\n",
       "      <td>True</td>\n",
       "      <td>True</td>\n",
       "      <td>True</td>\n",
       "      <td>True</td>\n",
       "    </tr>\n",
       "  </tbody>\n",
       "</table>\n",
       "</div>"
      ],
      "text/plain": [
       "         Пасажирський літак  Гелікоптер   Дрон  Грузовий літак\n",
       "Туман                  True       False  False            True\n",
       "Сніг                   True       False  False            True\n",
       "Дощ                    True        True  False            True\n",
       "Шторм                 False       False  False           False\n",
       "Ожеледь                True        True   True            True\n",
       "Ясно                   True        True   True            True\n",
       "Хмарно                 True        True   True            True"
      ]
     },
     "execution_count": 32,
     "metadata": {},
     "output_type": "execute_result"
    }
   ],
   "source": [
    "T2W"
   ]
  },
  {
   "cell_type": "code",
   "execution_count": 9,
   "id": "3ae13c44-fd81-4878-866a-8c9aab013f48",
   "metadata": {},
   "outputs": [],
   "source": [
    "type2rout = {\n",
    "    'Пасажирський літак': [True, True, True],\n",
    "    'Гелікоптер': [True, False, True],\n",
    "    'Дрон': [True, False, True],\n",
    "    'Грузовий літак': [True, True, True]\n",
    "}\n",
    "T2R = pd.DataFrame(type2rout, index=['Внутрішні', 'Міжнародні', 'Регіональні'])"
   ]
  },
  {
   "cell_type": "code",
   "execution_count": 27,
   "id": "a529a763-7454-453a-925c-e6df543f95b2",
   "metadata": {},
   "outputs": [
    {
     "data": {
      "text/html": [
       "<div>\n",
       "<style scoped>\n",
       "    .dataframe tbody tr th:only-of-type {\n",
       "        vertical-align: middle;\n",
       "    }\n",
       "\n",
       "    .dataframe tbody tr th {\n",
       "        vertical-align: top;\n",
       "    }\n",
       "\n",
       "    .dataframe thead th {\n",
       "        text-align: right;\n",
       "    }\n",
       "</style>\n",
       "<table border=\"1\" class=\"dataframe\">\n",
       "  <thead>\n",
       "    <tr style=\"text-align: right;\">\n",
       "      <th></th>\n",
       "      <th>Пасажирський літак</th>\n",
       "      <th>Гелікоптер</th>\n",
       "      <th>Дрон</th>\n",
       "      <th>Грузовий літак</th>\n",
       "    </tr>\n",
       "  </thead>\n",
       "  <tbody>\n",
       "    <tr>\n",
       "      <th>Внутрішні</th>\n",
       "      <td>True</td>\n",
       "      <td>True</td>\n",
       "      <td>True</td>\n",
       "      <td>True</td>\n",
       "    </tr>\n",
       "    <tr>\n",
       "      <th>Міжнародні</th>\n",
       "      <td>True</td>\n",
       "      <td>False</td>\n",
       "      <td>False</td>\n",
       "      <td>True</td>\n",
       "    </tr>\n",
       "    <tr>\n",
       "      <th>Регіональні</th>\n",
       "      <td>True</td>\n",
       "      <td>True</td>\n",
       "      <td>True</td>\n",
       "      <td>True</td>\n",
       "    </tr>\n",
       "  </tbody>\n",
       "</table>\n",
       "</div>"
      ],
      "text/plain": [
       "             Пасажирський літак  Гелікоптер   Дрон  Грузовий літак\n",
       "Внутрішні                  True        True   True            True\n",
       "Міжнародні                 True       False  False            True\n",
       "Регіональні                True        True   True            True"
      ]
     },
     "execution_count": 27,
     "metadata": {},
     "output_type": "execute_result"
    }
   ],
   "source": [
    "T2R"
   ]
  },
  {
   "cell_type": "markdown",
   "id": "2af04b30-b916-4282-8027-760053bcb5ec",
   "metadata": {
    "jupyter": {
     "source_hidden": true
    }
   },
   "source": [
    "type2rout = {\n",
    "    'Внутрішні': [True, True, True, True],\n",
    "    'Міжнародні': [True, False, False, True],\n",
    "    'Регіональні': [True, True, True, True]\n",
    "}\n",
    "T2R = pd.DataFrame(type2rout, index=['Пасажирський літак', 'Гелікоптер', 'Дрон', 'Грузовий літак'])"
   ]
  },
  {
   "cell_type": "code",
   "execution_count": 25,
   "id": "6f7a8a98-67a8-4fb7-9e8f-483150de2541",
   "metadata": {
    "collapsed": true,
    "jupyter": {
     "outputs_hidden": true
    }
   },
   "outputs": [
    {
     "data": {
      "text/html": [
       "<div>\n",
       "<style scoped>\n",
       "    .dataframe tbody tr th:only-of-type {\n",
       "        vertical-align: middle;\n",
       "    }\n",
       "\n",
       "    .dataframe tbody tr th {\n",
       "        vertical-align: top;\n",
       "    }\n",
       "\n",
       "    .dataframe thead th {\n",
       "        text-align: right;\n",
       "    }\n",
       "</style>\n",
       "<table border=\"1\" class=\"dataframe\">\n",
       "  <thead>\n",
       "    <tr style=\"text-align: right;\">\n",
       "      <th></th>\n",
       "      <th>Внутрішні</th>\n",
       "      <th>Міжнародні</th>\n",
       "      <th>Регіональні</th>\n",
       "    </tr>\n",
       "  </thead>\n",
       "  <tbody>\n",
       "    <tr>\n",
       "      <th>Пасажирський літак</th>\n",
       "      <td>True</td>\n",
       "      <td>True</td>\n",
       "      <td>True</td>\n",
       "    </tr>\n",
       "    <tr>\n",
       "      <th>Гелікоптер</th>\n",
       "      <td>True</td>\n",
       "      <td>False</td>\n",
       "      <td>True</td>\n",
       "    </tr>\n",
       "    <tr>\n",
       "      <th>Дрон</th>\n",
       "      <td>True</td>\n",
       "      <td>False</td>\n",
       "      <td>True</td>\n",
       "    </tr>\n",
       "    <tr>\n",
       "      <th>Грузовий літак</th>\n",
       "      <td>True</td>\n",
       "      <td>True</td>\n",
       "      <td>True</td>\n",
       "    </tr>\n",
       "  </tbody>\n",
       "</table>\n",
       "</div>"
      ],
      "text/plain": [
       "                    Внутрішні  Міжнародні  Регіональні\n",
       "Пасажирський літак       True        True         True\n",
       "Гелікоптер               True       False         True\n",
       "Дрон                     True       False         True\n",
       "Грузовий літак           True        True         True"
      ]
     },
     "execution_count": 25,
     "metadata": {},
     "output_type": "execute_result"
    }
   ],
   "source": [
    "T2R"
   ]
  },
  {
   "cell_type": "markdown",
   "id": "988d519b-91e0-486e-8c2a-f1d12b28ecae",
   "metadata": {},
   "source": [
    "# Logic"
   ]
  },
  {
   "cell_type": "code",
   "execution_count": 26,
   "id": "2164d6ce-4c7b-43f3-bc70-3a1183a0293c",
   "metadata": {},
   "outputs": [],
   "source": [
    "dataset = {\n",
    "    'Маршрути': T2R, \n",
    "    'Погодні умови': T2W, \n",
    "    'Надзвичайні ситуації': T2E\n",
    "}"
   ]
  },
  {
   "cell_type": "code",
   "execution_count": 18,
   "id": "bb5ddbf8-3d17-4081-a441-ef032574d799",
   "metadata": {},
   "outputs": [
    {
     "data": {
      "text/html": [
       "<div>\n",
       "<style scoped>\n",
       "    .dataframe tbody tr th:only-of-type {\n",
       "        vertical-align: middle;\n",
       "    }\n",
       "\n",
       "    .dataframe tbody tr th {\n",
       "        vertical-align: top;\n",
       "    }\n",
       "\n",
       "    .dataframe thead th {\n",
       "        text-align: right;\n",
       "    }\n",
       "</style>\n",
       "<table border=\"1\" class=\"dataframe\">\n",
       "  <thead>\n",
       "    <tr style=\"text-align: right;\">\n",
       "      <th></th>\n",
       "      <th>Пасажирський літак</th>\n",
       "      <th>Гелікоптер</th>\n",
       "      <th>Дрон</th>\n",
       "      <th>Грузовий літак</th>\n",
       "    </tr>\n",
       "  </thead>\n",
       "  <tbody>\n",
       "    <tr>\n",
       "      <th>Внутрішні</th>\n",
       "      <td>True</td>\n",
       "      <td>True</td>\n",
       "      <td>True</td>\n",
       "      <td>True</td>\n",
       "    </tr>\n",
       "    <tr>\n",
       "      <th>Міжнародні</th>\n",
       "      <td>True</td>\n",
       "      <td>False</td>\n",
       "      <td>False</td>\n",
       "      <td>True</td>\n",
       "    </tr>\n",
       "    <tr>\n",
       "      <th>Регіональні</th>\n",
       "      <td>True</td>\n",
       "      <td>True</td>\n",
       "      <td>True</td>\n",
       "      <td>True</td>\n",
       "    </tr>\n",
       "  </tbody>\n",
       "</table>\n",
       "</div>"
      ],
      "text/plain": [
       "             Пасажирський літак  Гелікоптер   Дрон  Грузовий літак\n",
       "Внутрішні                  True        True   True            True\n",
       "Міжнародні                 True       False  False            True\n",
       "Регіональні                True        True   True            True"
      ]
     },
     "execution_count": 18,
     "metadata": {},
     "output_type": "execute_result"
    }
   ],
   "source": [
    "T2R"
   ]
  },
  {
   "cell_type": "code",
   "execution_count": 32,
   "id": "eb2cd0cd-79fd-46ad-ab5f-52226263155a",
   "metadata": {},
   "outputs": [
    {
     "data": {
      "text/plain": [
       "'Міжнародні'"
      ]
     },
     "execution_count": 32,
     "metadata": {},
     "output_type": "execute_result"
    }
   ],
   "source": [
    "input['Маршрути']"
   ]
  },
  {
   "cell_type": "code",
   "execution_count": 27,
   "id": "b06e1514-5463-4600-ab82-3e89f434d5cb",
   "metadata": {},
   "outputs": [
    {
     "data": {
      "text/plain": [
       "Пасажирський літак     True\n",
       "Гелікоптер            False\n",
       "Дрон                  False\n",
       "Грузовий літак         True\n",
       "Name: Міжнародні, dtype: bool"
      ]
     },
     "execution_count": 27,
     "metadata": {},
     "output_type": "execute_result"
    }
   ],
   "source": [
    "T2R.loc[input['Маршрути']]"
   ]
  },
  {
   "cell_type": "code",
   "execution_count": 46,
   "id": "4fef948e-f8ae-444c-aa2a-35bc0f3f4b1a",
   "metadata": {},
   "outputs": [],
   "source": [
    "s = T2R.loc['Міжнародні']"
   ]
  },
  {
   "cell_type": "code",
   "execution_count": 58,
   "id": "10101d57-69ac-443c-9132-1c6dd503c4ae",
   "metadata": {},
   "outputs": [],
   "source": [
    "l = list(s.index[s])"
   ]
  },
  {
   "cell_type": "code",
   "execution_count": 60,
   "id": "52a9b281-6581-4361-86ef-25a48f81a92b",
   "metadata": {},
   "outputs": [],
   "source": [
    "def product_comp(input, dataset):\n",
    "    output = list()\n",
    "    for name, rule in dataset.items():\n",
    "        series = rule.loc[input[name]]\n",
    "        temp = list(series.index[series])\n",
    "        output.append(temp)\n",
    "    return output"
   ]
  },
  {
   "cell_type": "code",
   "execution_count": 13,
   "id": "d2b5538f-7926-4bdd-bb5c-2f15cc7cbd6e",
   "metadata": {},
   "outputs": [],
   "source": [
    "input = {\n",
    "    'Маршрути': 'Міжнародні',\n",
    "    'Погодні умови': 'Туман',\n",
    "    'Трафік': 'Середній',\n",
    "    'Надзвичайні ситуації': 'Немає'\n",
    "}"
   ]
  },
  {
   "cell_type": "code",
   "execution_count": 61,
   "id": "2d1bd6e0-2031-4884-9d28-98f111ebf299",
   "metadata": {},
   "outputs": [],
   "source": [
    "out = product_comp(input, dataset)"
   ]
  },
  {
   "cell_type": "code",
   "execution_count": 65,
   "id": "c6317030-9b08-4311-9641-c0717ff8360a",
   "metadata": {},
   "outputs": [],
   "source": [
    "porduct_output = list(set.intersection(*map(set, out)))"
   ]
  },
  {
   "cell_type": "code",
   "execution_count": 66,
   "id": "87fb4d33-4110-474f-a419-b594b316476e",
   "metadata": {},
   "outputs": [
    {
     "data": {
      "text/plain": [
       "['Грузовий літак', 'Пасажирський літак']"
      ]
     },
     "execution_count": 66,
     "metadata": {},
     "output_type": "execute_result"
    }
   ],
   "source": [
    "porduct_output"
   ]
  }
 ],
 "metadata": {
  "kernelspec": {
   "display_name": "Python 3 (ipykernel)",
   "language": "python",
   "name": "python3"
  },
  "language_info": {
   "codemirror_mode": {
    "name": "ipython",
    "version": 3
   },
   "file_extension": ".py",
   "mimetype": "text/x-python",
   "name": "python",
   "nbconvert_exporter": "python",
   "pygments_lexer": "ipython3",
   "version": "3.11.3"
  }
 },
 "nbformat": 4,
 "nbformat_minor": 5
}
